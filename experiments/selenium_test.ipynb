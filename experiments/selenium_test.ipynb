{
 "cells": [
  {
   "cell_type": "code",
   "id": "initial_id",
   "metadata": {
    "collapsed": true
   },
   "source": [
    "from selenium.webdriver.common.by import By\n",
    "from seleniumbase import SB\n",
    "with SB(uc=True, incognito=True) as sb:\n",
    "  sb.get(\"https://info.arxiv.org/help/api/basics.html\")\n",
    "  elem = sb.find_element(By.TAG_NAME, \"body\")\n",
    "  text = elem.text\n",
    "\n",
    "from openai import Client as OpenAIClient\n",
    "client = OpenAIClient(api_key='123', base_url='http://192.168.1.5:9900/v1')\n",
    "\n",
    "for resp in client.chat.completions.create(\n",
    "    model=\"llm\",\n",
    "    messages=[\n",
    "      {\"role\": \"system\", \"content\": \"You are a text-to-markdown converter, your input will be scraped Internet web page in plain text, your task is to convert them into organised markdown form. Your output should be directly a markdown file without putting them into a code block of markdown, but you can have code blocks inside your markdown file if the original web page has them. \"},\n",
    "      {\"role\": \"user\", \"content\": text},\n",
    "    ],\n",
    "    temperature=0.6,\n",
    "    top_p=0.9,\n",
    "    max_tokens=8192,\n",
    "    # extra_body={\"chat_template_kwargs\": {\"enable_thinking\": False}},\n",
    "  stream=True,\n",
    "):\n",
    "  d = resp.choices[0].delta\n",
    "  if hasattr(d, 'reasoning_content') and d.reasoning_content is not None:\n",
    "    print(d.reasoning_content, end='', flush=True)\n",
    "  if hasattr(d, 'content') and d.content is not None:\n",
    "    print(d.content, end='', flush=True)\n"
   ],
   "outputs": [],
   "execution_count": null
  },
  {
   "metadata": {},
   "cell_type": "code",
   "source": "",
   "id": "33eaaee80c29a7bd",
   "outputs": [],
   "execution_count": null
  }
 ],
 "metadata": {
  "kernelspec": {
   "display_name": "Python 3",
   "language": "python",
   "name": "python3"
  },
  "language_info": {
   "codemirror_mode": {
    "name": "ipython",
    "version": 2
   },
   "file_extension": ".py",
   "mimetype": "text/x-python",
   "name": "python",
   "nbconvert_exporter": "python",
   "pygments_lexer": "ipython2",
   "version": "2.7.6"
  }
 },
 "nbformat": 4,
 "nbformat_minor": 5
}
